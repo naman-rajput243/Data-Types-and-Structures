{
  "nbformat": 4,
  "nbformat_minor": 0,
  "metadata": {
    "colab": {
      "provenance": []
    },
    "kernelspec": {
      "name": "python3",
      "display_name": "Python 3"
    },
    "language_info": {
      "name": "python"
    }
  },
  "cells": [
    {
      "cell_type": "markdown",
      "source": [
        "1) What are data structures, and why are they important ?\n",
        "\n",
        "Ans) Data strutures are ways of organizing and storing value in different variables enabling efficient performance of the program.\n",
        "\n",
        "They are important as they made the code much more efficient and maintable and more understandable."
      ],
      "metadata": {
        "id": "vTmDWoOfj1Wg"
      }
    },
    {
      "cell_type": "markdown",
      "source": [
        "2)  Explain the difference between mutable and immutable data types with examples ?\n",
        "\n",
        "Ans) Mutable data types are data types where the value of the variables can be updated or changed as per as user choice. EXAMPLE -- Lists and Sets\n",
        "\n",
        "Immutable data types are data types where the value of the variable can be updated or changed at any cost once declared. EXAMPLE -- Tuples, Strings"
      ],
      "metadata": {
        "id": "k72IFY-kkedP"
      }
    },
    {
      "cell_type": "markdown",
      "source": [
        "3) What are the main differences between lists and tuples in Python ?\n",
        "\n",
        "Ans) Lists are mutable that is it's value can be updated after declaration. Denoted or enclosed by []\n",
        "\n",
        "Tuples are immutable that is it's value can't be updated or changed after declaration. Denoted or enclosed by ()\n"
      ],
      "metadata": {
        "id": "iiimRNk5lGBz"
      }
    },
    {
      "cell_type": "markdown",
      "source": [
        "4) Describe how dictionaries store data ?\n",
        "\n",
        "Ans) Dictionaries stores value in form of key - value pairs and is enclosed by {}"
      ],
      "metadata": {
        "id": "GX3SVjJ8lyRH"
      }
    },
    {
      "cell_type": "markdown",
      "source": [
        "5) Why might you use a set instead of a list in Python ?\n",
        "\n",
        "Ans) We can use set instead of list as set stores unique characters of value. If duplicate value is entered it is only displayed one time and also counted once."
      ],
      "metadata": {
        "id": "x14o4o1_l-cn"
      }
    },
    {
      "cell_type": "markdown",
      "source": [
        "6)  What is a string in Python, and how is it different from a list ?\n",
        "\n",
        "Ans) A string in python is a data type to store word or sentence in a variable enclosed in \" \" or ' '.\n",
        "\n",
        "Its is different from list as element in lists are mutable that is it can be updated or changed but in string the values are immutable that is once declared cannot be changed.\n"
      ],
      "metadata": {
        "id": "4ugZcPPWmcdb"
      }
    },
    {
      "cell_type": "markdown",
      "source": [
        "7)  How do tuples ensure data integrity in Python ?\n",
        "\n",
        "Ans) Tuples ensures data integrity as it is immutable and it's value cannot be changed, hence keeping the data safe and constant throughout lifetime."
      ],
      "metadata": {
        "id": "3m_gQHzUnrGn"
      }
    },
    {
      "cell_type": "markdown",
      "source": [
        "8)  What is a hash table, and how does it relate to dictionaries in Python ?\n",
        "\n",
        "Ans) Hash table is a data structure that implements array or dictionaries.\n",
        "\n",
        "It helps in dictionary to store the key-value pair."
      ],
      "metadata": {
        "id": "R0wHw0usoFm7"
      }
    },
    {
      "cell_type": "markdown",
      "source": [
        "9) Can lists contain different data types in Python ?\n",
        "\n",
        "Ans) Yes list can contain any and many data types in a single list"
      ],
      "metadata": {
        "id": "4XtjY0jKowy5"
      }
    },
    {
      "cell_type": "markdown",
      "source": [
        "10) Explain why strings are immutable in Python ?\n",
        "\n",
        "Ans) Strings are immutable as it ensures it's value doesn't change and ensures the data integrity."
      ],
      "metadata": {
        "id": "vtzTtcHTo-wh"
      }
    },
    {
      "cell_type": "markdown",
      "source": [
        "11)  What advantages do dictionaries offer over lists for certain tasks ?\n",
        "\n",
        "Ans) Dictionaries provides advantage to store pair value when one is related to other. It helps to store it in form of key value pair. In list we need to store all value seperately hence breaking the pair."
      ],
      "metadata": {
        "id": "ofnC9ON-pehX"
      }
    },
    {
      "cell_type": "markdown",
      "source": [
        "12)  Describe a scenario where using a tuple would be preferable over a list ?\n",
        "\n",
        "Ans) A Scenario where we need to store some data whose integrity should be safe and value cannot be changed is the case when tuples would be more preferable over list as it is immutable that is it's value cannot be changed or updated."
      ],
      "metadata": {
        "id": "gqHnz0MjqW5v"
      }
    },
    {
      "cell_type": "markdown",
      "source": [
        "13) How do sets handle duplicate values in Python ?\n",
        "\n",
        "Ans) Sets is a collection of unique characters so the duplicate values in it is simply ignored."
      ],
      "metadata": {
        "id": "p35kj47XvI4H"
      }
    },
    {
      "cell_type": "markdown",
      "source": [
        "14) How does the “in” keyword work differently for lists and dictionaries ?\n",
        "\n",
        "Ans) \"in\" keyword in lists is used to iterate through the elements present in it whereas in dictionary it is used to check whether certain value is present or not."
      ],
      "metadata": {
        "id": "d94yzsNBvaQq"
      }
    },
    {
      "cell_type": "markdown",
      "source": [
        "15) Can you modify the elements of a tuple? Explain why or why not ?\n",
        "\n",
        "Ans) No the elements in tuple cannot be modified. It is so to protect the integrity of the data stored in the tuple."
      ],
      "metadata": {
        "id": "fhzgLtjVv7VM"
      }
    },
    {
      "cell_type": "markdown",
      "source": [
        "16) What is a nested dictionary, and give an example of its use case ?\n",
        "\n",
        "Ans) A nested dictionary where the values are themselves dictionary is called nested dictionary.\n",
        "\n",
        "Example of use case is when it is used to store some biodata thing then nested dictionary is considered useful"
      ],
      "metadata": {
        "id": "krDKepHWwNYH"
      }
    },
    {
      "cell_type": "markdown",
      "source": [
        "17) Describe the time complexity of accessing elements in a dictionary ?\n",
        "\n",
        "Ans) The time complexity of accessing element in dictionary is is O(1).\n",
        "\n",
        "It means it will take same time accessing the value regardless of the dictionary size."
      ],
      "metadata": {
        "id": "DS979rT9w8eB"
      }
    },
    {
      "cell_type": "markdown",
      "source": [
        "18)  In what situations are lists preferred over dictionaries ?\n",
        "\n",
        "Ans) Situations in which the value has its own independent existence and do not occur in pair then list is preferred over the dictionary."
      ],
      "metadata": {
        "id": "WnxxXhY0xbAH"
      }
    },
    {
      "cell_type": "markdown",
      "source": [
        "19) Why are dictionaries considered unordered, and how does that affect data retrieval ?\n",
        "\n",
        "Ans) Dictionaries are unordered as the values are retrieved by their key so indexing is not required and so it is unordered.\n",
        "\n",
        "It affects the data rretrieval as we cannot retrieve data using indexing as dictionary is unordered."
      ],
      "metadata": {
        "id": "ipdeMcKDxvST"
      }
    },
    {
      "cell_type": "markdown",
      "source": [
        "20) Explain the difference between a list and a dictionary in terms of data retrieval.\n",
        "\n",
        "Ans) In a list the data is retrieved by indexing as it is ordered.\n",
        "\n",
        "In dictionary the data is retrieved by key as it is unordered. You can access the value by intializing the key."
      ],
      "metadata": {
        "id": "Jvjs9vZ0yXaC"
      }
    },
    {
      "cell_type": "code",
      "source": [
        "# 1) Write a code to create a string with your name and print it.\n",
        "\n",
        "name = \"Naman Singh Rajput\"\n",
        "print(name)"
      ],
      "metadata": {
        "id": "mXYYhzOQmbvs",
        "colab": {
          "base_uri": "https://localhost:8080/"
        },
        "outputId": "536dc5c4-069f-413e-e56a-bdde96e6034e"
      },
      "execution_count": null,
      "outputs": [
        {
          "output_type": "stream",
          "name": "stdout",
          "text": [
            "Naman Singh Rajput\n"
          ]
        }
      ]
    },
    {
      "cell_type": "code",
      "source": [
        "# 2) Write a code to find the length of the string \"Hello World\".\n",
        "\n",
        "s = \"Hello World\"\n",
        "length = len(s)\n",
        "\n",
        "print(\"The length of Hello World is\", length)"
      ],
      "metadata": {
        "colab": {
          "base_uri": "https://localhost:8080/"
        },
        "id": "uuNHEtUozMtR",
        "outputId": "fd4a0691-44a7-46cb-af86-310963bca440"
      },
      "execution_count": null,
      "outputs": [
        {
          "output_type": "stream",
          "name": "stdout",
          "text": [
            "The length of Hello World is 11\n"
          ]
        }
      ]
    },
    {
      "cell_type": "code",
      "source": [
        "# 3) Write a code to slice the first 3 characters from the string \"Python Programming\".\n",
        "\n",
        "s = \"Python Programming\"\n",
        "character = s[0 : 3]\n",
        "print(\"The first three character of Python Programming is\", character)"
      ],
      "metadata": {
        "colab": {
          "base_uri": "https://localhost:8080/"
        },
        "id": "pFf_up1fzf4x",
        "outputId": "b6ed3678-c7ac-4561-97af-1a4a9b1645c2"
      },
      "execution_count": null,
      "outputs": [
        {
          "output_type": "stream",
          "name": "stdout",
          "text": [
            "The first three character of Python Programming is Pyt\n"
          ]
        }
      ]
    },
    {
      "cell_type": "code",
      "source": [
        "# 4) Write a code to convert the string \"hello\" to uppercase ?\n",
        "\n",
        "s = \"hello\"\n",
        "a = s.upper()\n",
        "print(a)"
      ],
      "metadata": {
        "colab": {
          "base_uri": "https://localhost:8080/"
        },
        "id": "0NOPdXtI0KRg",
        "outputId": "1b2da4a8-9d06-4ff7-b0fa-7e13b95c0a21"
      },
      "execution_count": null,
      "outputs": [
        {
          "output_type": "stream",
          "name": "stdout",
          "text": [
            "HELLO\n"
          ]
        }
      ]
    },
    {
      "cell_type": "code",
      "source": [
        "# 5) Write a code to replace the word \"apple\" with \"orange\" in the string \"I like apple\"\n",
        "\n",
        "a = \"I like apple\"\n",
        "s = a.replace(\"apple\", \"orange\")\n",
        "\n",
        "print(s)"
      ],
      "metadata": {
        "colab": {
          "base_uri": "https://localhost:8080/"
        },
        "id": "oICJSKLT0g2l",
        "outputId": "0cbce478-43de-48bd-8b92-0f66aa19ec4d"
      },
      "execution_count": null,
      "outputs": [
        {
          "output_type": "stream",
          "name": "stdout",
          "text": [
            "I like orange\n"
          ]
        }
      ]
    },
    {
      "cell_type": "code",
      "source": [
        "# 6)  Write a code to create a list with numbers 1 to 5 and print it\n",
        "\n",
        "l = [1, 2, 3, 4, 5]\n",
        "print(l)"
      ],
      "metadata": {
        "colab": {
          "base_uri": "https://localhost:8080/"
        },
        "id": "gmX-LIf60_4h",
        "outputId": "da9af4c7-2328-432e-8504-bd049c10dacf"
      },
      "execution_count": null,
      "outputs": [
        {
          "output_type": "stream",
          "name": "stdout",
          "text": [
            "[1, 2, 3, 4, 5]\n"
          ]
        }
      ]
    },
    {
      "cell_type": "code",
      "source": [
        "# 7) Write a code to append the number 10 to the list [1, 2, 3, 4]\n",
        "\n",
        "l = [1, 2, 3, 4]\n",
        "l.append(10)\n",
        "print(l)"
      ],
      "metadata": {
        "colab": {
          "base_uri": "https://localhost:8080/"
        },
        "id": "iYi4uIMQ1J5q",
        "outputId": "1a41ee9b-9aad-4bc8-b3bf-b2e6f88f2fb1"
      },
      "execution_count": null,
      "outputs": [
        {
          "output_type": "stream",
          "name": "stdout",
          "text": [
            "[1, 2, 3, 4, 10]\n"
          ]
        }
      ]
    },
    {
      "cell_type": "code",
      "source": [
        "# 8) Write a code to remove the number 3 from the list [1, 2, 3, 4, 5]\n",
        "\n",
        "l = [1, 2, 3, 4, 5]\n",
        "l.remove(3)\n",
        "print(l)"
      ],
      "metadata": {
        "colab": {
          "base_uri": "https://localhost:8080/"
        },
        "id": "0oKW1DVd1l9K",
        "outputId": "b133a500-9cc8-4e92-9d29-92069edd265d"
      },
      "execution_count": null,
      "outputs": [
        {
          "output_type": "stream",
          "name": "stdout",
          "text": [
            "[1, 2, 4, 5]\n"
          ]
        }
      ]
    },
    {
      "cell_type": "code",
      "source": [
        "# 9) Write a code to access the second element in the list ['a', 'b', 'c', 'd']\n",
        "\n",
        "list_ele = ['a', 'b', 'c', 'd']\n",
        "a = list_ele[1]\n",
        "print(a)"
      ],
      "metadata": {
        "colab": {
          "base_uri": "https://localhost:8080/"
        },
        "id": "U9yS72UC2S0r",
        "outputId": "f2dc206c-1002-4e66-deff-bf6847683273"
      },
      "execution_count": null,
      "outputs": [
        {
          "output_type": "stream",
          "name": "stdout",
          "text": [
            "b\n"
          ]
        }
      ]
    },
    {
      "cell_type": "code",
      "source": [
        "# 10) Write a code to reverse the list [10, 20, 30, 40, 50]\n",
        "\n",
        "list_ele = [10, 20, 30, 40, 50]\n",
        "\n",
        "list_ele.reverse()\n",
        "print(list_ele)"
      ],
      "metadata": {
        "colab": {
          "base_uri": "https://localhost:8080/"
        },
        "id": "YbJQqJzG2qfy",
        "outputId": "391fbf2a-9958-4c02-a3ac-7ba0471a7fde"
      },
      "execution_count": null,
      "outputs": [
        {
          "output_type": "stream",
          "name": "stdout",
          "text": [
            "[50, 40, 30, 20, 10]\n"
          ]
        }
      ]
    },
    {
      "cell_type": "code",
      "source": [
        "# 11) Write a code to create a tuple with the elements 100, 200, 300 and print it\n",
        "\n",
        "tup = (100, 200, 300)\n",
        "print(tup)"
      ],
      "metadata": {
        "colab": {
          "base_uri": "https://localhost:8080/"
        },
        "id": "oO9PBh6X3Bsd",
        "outputId": "672b60a4-5ba2-4a4a-acdf-2b83ebdc99d7"
      },
      "execution_count": null,
      "outputs": [
        {
          "output_type": "stream",
          "name": "stdout",
          "text": [
            "(100, 200, 300)\n"
          ]
        }
      ]
    },
    {
      "cell_type": "code",
      "source": [
        "# 12) Write a code to access the second-to-last element of the tuple ('red', 'green', 'blue', 'yellow')\n",
        "\n",
        "tup = ('red', 'green', 'blue', 'yellow')\n",
        "a = tup[1 : 4]\n",
        "print(a)"
      ],
      "metadata": {
        "colab": {
          "base_uri": "https://localhost:8080/"
        },
        "id": "6cRuw0lo3PmX",
        "outputId": "c48a0f65-3594-49a1-eec8-6f0596bd1ff7"
      },
      "execution_count": null,
      "outputs": [
        {
          "output_type": "stream",
          "name": "stdout",
          "text": [
            "('green', 'blue', 'yellow')\n"
          ]
        }
      ]
    },
    {
      "cell_type": "code",
      "source": [
        "# 13)  Write a code to find the minimum number in the tuple (10, 20, 5, 15)\n",
        "\n",
        "tup = [10, 20, 5, 15]\n",
        "min = min(tup)\n",
        "print(min)"
      ],
      "metadata": {
        "colab": {
          "base_uri": "https://localhost:8080/"
        },
        "id": "qNE8d5mb3qY9",
        "outputId": "8862ac94-1fa7-4b18-a755-4b04611cea52"
      },
      "execution_count": null,
      "outputs": [
        {
          "output_type": "stream",
          "name": "stdout",
          "text": [
            "5\n"
          ]
        }
      ]
    },
    {
      "cell_type": "code",
      "source": [
        "# 14) Write a code to find the index of the element \"cat\" in the tuple ('dog', 'cat', 'rabbit')\n",
        "\n",
        "tup = ('dog', 'cat', 'rabbit')\n",
        "s = tup.index(\"cat\")\n",
        "print(s)"
      ],
      "metadata": {
        "colab": {
          "base_uri": "https://localhost:8080/"
        },
        "id": "bi_PuHt44EPr",
        "outputId": "507eda65-8fde-4725-814b-9e3ef40ce36f"
      },
      "execution_count": null,
      "outputs": [
        {
          "output_type": "stream",
          "name": "stdout",
          "text": [
            "1\n"
          ]
        }
      ]
    },
    {
      "cell_type": "code",
      "source": [
        "# 15) Write a code to create a tuple containing three different fruits and check if \"kiwi\" is in it\n",
        "\n",
        "tup = ('apple', 'banana', 'litchi')\n",
        "print(\"kiwi\" in tup)"
      ],
      "metadata": {
        "colab": {
          "base_uri": "https://localhost:8080/"
        },
        "id": "YjJRqOBT4cyQ",
        "outputId": "75264e3f-efc1-49e9-b7ab-1150b8c1eeb0"
      },
      "execution_count": null,
      "outputs": [
        {
          "output_type": "stream",
          "name": "stdout",
          "text": [
            "False\n"
          ]
        }
      ]
    },
    {
      "cell_type": "code",
      "source": [
        "# 16) Write a code to create a set with the elements 'a', 'b', 'c' and print it.\n",
        "\n",
        "set_element = {'a', 'b', 'c'}\n",
        "print(set_element)"
      ],
      "metadata": {
        "colab": {
          "base_uri": "https://localhost:8080/"
        },
        "id": "HAzaVuXF41iP",
        "outputId": "8188369f-c200-4779-c32f-e07804fdc1cc"
      },
      "execution_count": null,
      "outputs": [
        {
          "output_type": "stream",
          "name": "stdout",
          "text": [
            "{'c', 'b', 'a'}\n"
          ]
        }
      ]
    },
    {
      "cell_type": "code",
      "source": [
        "# 17) Write a code to clear all elements from the set {1, 2, 3, 4, 5}\n",
        "\n",
        "set_ele = {1, 2, 3, 4, 5}\n",
        "set_ele.clear()\n",
        "print(set_ele)"
      ],
      "metadata": {
        "colab": {
          "base_uri": "https://localhost:8080/"
        },
        "id": "iqWLU7Pr5Ecw",
        "outputId": "88ff12da-352f-4959-80a5-479dcb9ad4dd"
      },
      "execution_count": null,
      "outputs": [
        {
          "output_type": "stream",
          "name": "stdout",
          "text": [
            "set()\n"
          ]
        }
      ]
    },
    {
      "cell_type": "code",
      "source": [
        "# 18)  Write a code to remove the element 4 from the set {1, 2, 3, 4}\n",
        "\n",
        "set_ele = {1, 2, 3, 4}\n",
        "set_ele.remove(4)\n",
        "print(set_ele)"
      ],
      "metadata": {
        "colab": {
          "base_uri": "https://localhost:8080/"
        },
        "id": "a44lpZa95Yh_",
        "outputId": "1060429b-5647-4931-e89a-7acf7d4b3a44"
      },
      "execution_count": null,
      "outputs": [
        {
          "output_type": "stream",
          "name": "stdout",
          "text": [
            "{1, 2, 3}\n"
          ]
        }
      ]
    },
    {
      "cell_type": "code",
      "source": [
        "# 19)  Write a code to find the union of two sets {1, 2, 3} and {3, 4, 5}\n",
        "\n",
        "s1 = {1, 2, 3}\n",
        "s2 = {3, 4, 5}\n",
        "s3 = s1.union(s2)\n",
        "print(s3)"
      ],
      "metadata": {
        "colab": {
          "base_uri": "https://localhost:8080/"
        },
        "id": "3_xYzrJGCmC1",
        "outputId": "5e7252ea-15b8-4187-c355-78be4dae497f"
      },
      "execution_count": null,
      "outputs": [
        {
          "output_type": "stream",
          "name": "stdout",
          "text": [
            "{1, 2, 3, 4, 5}\n"
          ]
        }
      ]
    },
    {
      "cell_type": "code",
      "source": [
        "# 20)  Write a code to find the intersection of two sets {1, 2, 3} and {2, 3, 4}\n",
        "\n",
        "s1 = {1, 2, 3}\n",
        "s2 = {2, 3, 4}\n",
        "s3 = s1.intersection(s2)\n",
        "print(s3)"
      ],
      "metadata": {
        "colab": {
          "base_uri": "https://localhost:8080/"
        },
        "id": "5ZhJ06zyC6pE",
        "outputId": "d4331ac7-a84c-4d79-8076-89efb3a16d94"
      },
      "execution_count": null,
      "outputs": [
        {
          "output_type": "stream",
          "name": "stdout",
          "text": [
            "{2, 3}\n"
          ]
        }
      ]
    },
    {
      "cell_type": "code",
      "source": [
        "# 21) Write a code to create a dictionary with the keys \"name\", \"age\", and \"city\", and print it\n",
        "\n",
        "dicti = {\"Name\" : \"Naman\", \"Age\" : 17, \"City\" : \"Kolkata\"}\n",
        "print(dicti)\n",
        "print(type(dicti))"
      ],
      "metadata": {
        "id": "cRjxH1XYDM6c",
        "colab": {
          "base_uri": "https://localhost:8080/"
        },
        "outputId": "1d40ad0c-7f04-43ef-9fda-d6326ab5e550"
      },
      "execution_count": 4,
      "outputs": [
        {
          "output_type": "stream",
          "name": "stdout",
          "text": [
            "{'Name': 'Naman', 'Age': 17, 'City': 'Kolkata'}\n",
            "<class 'dict'>\n"
          ]
        }
      ]
    },
    {
      "cell_type": "code",
      "source": [
        "# 22) Write a code to add a new key-value pair \"country\": \"USA\" to the dictionary {'name': 'John', 'age': 25}\n",
        "\n",
        "d = {\"Name\" : \"John\", \"Age\" : 25}\n",
        "d1 = {\"Country\" : \"USA\"}\n",
        "\n",
        "d.update(d1)\n",
        "print(d)"
      ],
      "metadata": {
        "colab": {
          "base_uri": "https://localhost:8080/"
        },
        "id": "hyquqW_vnXi7",
        "outputId": "342a7262-aa06-4ec6-9799-285a5182807b"
      },
      "execution_count": 5,
      "outputs": [
        {
          "output_type": "stream",
          "name": "stdout",
          "text": [
            "{'Name': 'John', 'Age': 25, 'Country': 'USA'}\n"
          ]
        }
      ]
    },
    {
      "cell_type": "code",
      "source": [
        "# 23) Write a code to access the value associated with the key \"name\" in the dictionary {'name': 'Alice', 'age': 30}\n",
        "\n",
        "d1 = {\"Name\" : \"Alice\" , \"Age\" : 30}\n",
        "print(d1.get(\"Name\"))"
      ],
      "metadata": {
        "colab": {
          "base_uri": "https://localhost:8080/"
        },
        "id": "lwEr6PJdoJHd",
        "outputId": "25418b75-73e6-45fd-8870-c091bbbc6b3d"
      },
      "execution_count": 7,
      "outputs": [
        {
          "output_type": "stream",
          "name": "stdout",
          "text": [
            "Alice\n"
          ]
        }
      ]
    },
    {
      "cell_type": "code",
      "source": [
        "# 24) Write a code to remove the key \"age\" from the dictionary {'name': 'Bob', 'age': 22, 'city': 'New York'}.\n",
        "\n",
        "d1 = {'Name': 'Bob', 'Age': 22, 'City': 'New York'}\n",
        "d1.pop(\"Name\")\n",
        "print(d1)"
      ],
      "metadata": {
        "colab": {
          "base_uri": "https://localhost:8080/"
        },
        "id": "kG-X7TaTo_CM",
        "outputId": "57416d48-3484-446e-9b56-3330f6150a82"
      },
      "execution_count": 10,
      "outputs": [
        {
          "output_type": "stream",
          "name": "stdout",
          "text": [
            "{'Age': 22, 'City': 'New York'}\n"
          ]
        }
      ]
    },
    {
      "cell_type": "code",
      "source": [
        "# 25) Write a code to check if the key \"city\" exists in the dictionary {'name': 'Alice', 'city': 'Paris'}\n",
        "\n",
        "d1 = {\"Name\" : \"Alice\", \"City\" : \"Paris\"}\n",
        "print(\"City\" in d1)"
      ],
      "metadata": {
        "colab": {
          "base_uri": "https://localhost:8080/"
        },
        "id": "WIDNV2ZGpqut",
        "outputId": "efefa63a-1a3b-46b1-d4f3-e8618f030681"
      },
      "execution_count": 11,
      "outputs": [
        {
          "output_type": "stream",
          "name": "stdout",
          "text": [
            "True\n"
          ]
        }
      ]
    },
    {
      "cell_type": "code",
      "source": [
        "# 26) Write a code to create a list, a tuple, and a dictionary, and print them all\n",
        "\n",
        "lst = [\"Hello\", 12, 25.2, True, 2 + 3j]\n",
        "print(lst)\n",
        "print(type(lst))\n",
        "tupl = (\"Hi\", 13, 13.25, False, 3 + 2j)\n",
        "print(tupl)\n",
        "print(type(tupl))\n",
        "dicti = {\"Name\" : \"Naman\", \"Age\" : 17}\n",
        "print(dicti)\n",
        "print(type(dicti))"
      ],
      "metadata": {
        "colab": {
          "base_uri": "https://localhost:8080/"
        },
        "id": "mEpoiIe0qDON",
        "outputId": "d4e4bdf3-afca-4dc6-fa85-fa7366e2e89c"
      },
      "execution_count": 12,
      "outputs": [
        {
          "output_type": "stream",
          "name": "stdout",
          "text": [
            "['Hello', 12, 25.2, True, (2+3j)]\n",
            "<class 'list'>\n",
            "('Hi', 13, 13.25, False, (3+2j))\n",
            "<class 'tuple'>\n",
            "{'Name': 'Naman', 'Age': 17}\n",
            "<class 'dict'>\n"
          ]
        }
      ]
    },
    {
      "cell_type": "code",
      "source": [
        "# 27)  Write a code to create a list of 5 random numbers between 1 and 100, sort it in ascending order, and print the\n",
        "#      result\n",
        "\n",
        "lst = [2, 99, 56, 8, 45]\n",
        "print(lst)\n",
        "print(sorted(lst))\n"
      ],
      "metadata": {
        "colab": {
          "base_uri": "https://localhost:8080/"
        },
        "id": "ldl1Ot7dq11C",
        "outputId": "23aa1e3d-4916-4cca-b1fd-832e9f0b7306"
      },
      "execution_count": 15,
      "outputs": [
        {
          "output_type": "stream",
          "name": "stdout",
          "text": [
            "[2, 99, 56, 8, 45]\n",
            "[2, 8, 45, 56, 99]\n"
          ]
        }
      ]
    },
    {
      "cell_type": "code",
      "source": [
        "# 28)  Write a code to create a list with strings and print the element at the third index.\n",
        "\n",
        "lst = [\"Naman\", \"Om\", \"Yash\", \"Ashu\"]\n",
        "print(lst[2])"
      ],
      "metadata": {
        "colab": {
          "base_uri": "https://localhost:8080/"
        },
        "id": "MUd3Flmiri2G",
        "outputId": "15780d07-eb73-4eae-ff07-5d9d6d2ab10b"
      },
      "execution_count": 16,
      "outputs": [
        {
          "output_type": "stream",
          "name": "stdout",
          "text": [
            "Yash\n"
          ]
        }
      ]
    },
    {
      "cell_type": "code",
      "source": [
        "# 29)  Write a code to combine two dictionaries into one and print the result.\n",
        "\n",
        "d1 = {\"Name\" : \"Naman\", \"Class\" : 17, \"City\" : \"Kolkata\"}\n",
        "d2 = {\"Roll No.\" : 35, \"Sub\" : \"Gen AI\"}\n",
        "d1.update(d2)\n",
        "print(d1)"
      ],
      "metadata": {
        "colab": {
          "base_uri": "https://localhost:8080/"
        },
        "id": "Sob-jryNr0OK",
        "outputId": "c2088871-a668-4001-b14c-15ec6947e366"
      },
      "execution_count": 19,
      "outputs": [
        {
          "output_type": "stream",
          "name": "stdout",
          "text": [
            "{'Name': 'Naman', 'Class': 17, 'City': 'Kolkata', 'Roll No.': 35, 'Sub': 'Gen AI'}\n"
          ]
        }
      ]
    },
    {
      "cell_type": "code",
      "source": [
        "# 30)  Write a code to convert a list of strings into a set\n",
        "\n",
        "l1 = [\"Apple\", \"Banana\", \"Litchi\", \"Orange\", \"Strawberry\"]\n",
        "print(l1)\n",
        "print(type(l1))\n",
        "\n",
        "s1 = set(l1)\n",
        "print(s1)\n",
        "print(type(s1))"
      ],
      "metadata": {
        "colab": {
          "base_uri": "https://localhost:8080/"
        },
        "id": "y-KD5ib8scYL",
        "outputId": "670702df-a894-4f81-d2b5-dc4b316778c7"
      },
      "execution_count": 20,
      "outputs": [
        {
          "output_type": "stream",
          "name": "stdout",
          "text": [
            "['Apple', 'Banana', 'Litchi', 'Orange', 'Strawberry']\n",
            "<class 'list'>\n",
            "{'Apple', 'Orange', 'Litchi', 'Banana', 'Strawberry'}\n",
            "<class 'set'>\n"
          ]
        }
      ]
    }
  ]
}